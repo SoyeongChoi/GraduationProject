{
 "cells": [
  {
   "cell_type": "code",
   "execution_count": 1,
   "metadata": {
    "scrolled": true
   },
   "outputs": [
    {
     "data": {
      "text/plain": [
       "'1.12.0'"
      ]
     },
     "execution_count": 1,
     "metadata": {},
     "output_type": "execute_result"
    }
   ],
   "source": [
    "import tensorflow as tf\n",
    "from tensorflow.python.tools import freeze_graph, optimize_for_inference_lib\n",
    "tf.__version__"
   ]
  },
  {
   "cell_type": "code",
   "execution_count": 2,
   "metadata": {
    "scrolled": true
   },
   "outputs": [
    {
     "name": "stdout",
     "output_type": "stream",
     "text": [
      "INFO:tensorflow:Restoring parameters from ./tmp2/model.ckpt\n",
      "WARNING:tensorflow:From /home/intern/.local/lib/python3.5/site-packages/tensorflow/python/tools/freeze_graph.py:249: FastGFile.__init__ (from tensorflow.python.platform.gfile) is deprecated and will be removed in a future version.\n",
      "Instructions for updating:\n",
      "Use tf.gfile.GFile.\n",
      "INFO:tensorflow:Restoring parameters from ./tmp2/model.ckpt\n",
      "INFO:tensorflow:Froze 111 variables.\n",
      "INFO:tensorflow:Converted 111 variables to const ops.\n"
     ]
    }
   ],
   "source": [
    "MODEL_NAME = 'face_model'\n",
    "\n",
    "# Freeze the graph\n",
    "\n",
    "input_graph_path = './tmp2/'+MODEL_NAME+'.pbtxt'\n",
    "\n",
    "with tf.Session() as sess:\n",
    "    saver = tf.train.import_meta_graph('./tmp2/model.ckpt.meta')\n",
    "    saver.restore(sess, './tmp2/model.ckpt')\n",
    "    \n",
    "    checkpoint_path = './tmp2/model.ckpt'\n",
    "    input_saver_def_path = \"\"\n",
    "    input_binary = False\n",
    "    output_node_names = \"layer22/leaky_relu22_output\"\n",
    "    restore_op_name = \"save/restore_all\"\n",
    "    filename_tensor_name = \"save/Const:0\"\n",
    "    output_frozen_graph_name = './tmp2/frozen_'+MODEL_NAME+'.pb'\n",
    "    \n",
    "    clear_devices = True\n",
    "\n",
    "\n",
    "    freeze_graph.freeze_graph(input_graph_path, input_saver_def_path,\n",
    "                              input_binary, checkpoint_path, output_node_names,\n",
    "                              restore_op_name, filename_tensor_name,\n",
    "                              output_frozen_graph_name, clear_devices, \"\")\n",
    "\n",
    "        "
   ]
  },
  {
   "cell_type": "code",
   "execution_count": 3,
   "metadata": {
    "scrolled": false
   },
   "outputs": [
    {
     "name": "stdout",
     "output_type": "stream",
     "text": [
      "WARNING:tensorflow:Didn't find expected Conv2D input to 'layer1/batch_normalization/cond/FusedBatchNorm'\n",
      "WARNING:tensorflow:Didn't find expected Conv2D input to 'layer1/batch_normalization/cond/FusedBatchNorm_1'\n",
      "WARNING:tensorflow:Didn't find expected Conv2D input to 'layer2/batch_normalization/cond/FusedBatchNorm'\n",
      "WARNING:tensorflow:Didn't find expected Conv2D input to 'layer2/batch_normalization/cond/FusedBatchNorm_1'\n",
      "WARNING:tensorflow:Didn't find expected Conv2D input to 'layer3/batch_normalization/cond/FusedBatchNorm'\n",
      "WARNING:tensorflow:Didn't find expected Conv2D input to 'layer3/batch_normalization/cond/FusedBatchNorm_1'\n",
      "WARNING:tensorflow:Didn't find expected Conv2D input to 'layer4/batch_normalization/cond/FusedBatchNorm'\n",
      "WARNING:tensorflow:Didn't find expected Conv2D input to 'layer4/batch_normalization/cond/FusedBatchNorm_1'\n",
      "WARNING:tensorflow:Didn't find expected Conv2D input to 'layer5/batch_normalization/cond/FusedBatchNorm'\n",
      "WARNING:tensorflow:Didn't find expected Conv2D input to 'layer5/batch_normalization/cond/FusedBatchNorm_1'\n",
      "WARNING:tensorflow:Didn't find expected Conv2D input to 'layer6/batch_normalization/cond/FusedBatchNorm'\n",
      "WARNING:tensorflow:Didn't find expected Conv2D input to 'layer6/batch_normalization/cond/FusedBatchNorm_1'\n",
      "WARNING:tensorflow:Didn't find expected Conv2D input to 'layer7/batch_normalization/cond/FusedBatchNorm'\n",
      "WARNING:tensorflow:Didn't find expected Conv2D input to 'layer7/batch_normalization/cond/FusedBatchNorm_1'\n",
      "WARNING:tensorflow:Didn't find expected Conv2D input to 'layer8/batch_normalization/cond/FusedBatchNorm'\n",
      "WARNING:tensorflow:Didn't find expected Conv2D input to 'layer8/batch_normalization/cond/FusedBatchNorm_1'\n",
      "WARNING:tensorflow:Didn't find expected Conv2D input to 'layer9/batch_normalization/cond/FusedBatchNorm'\n",
      "WARNING:tensorflow:Didn't find expected Conv2D input to 'layer9/batch_normalization/cond/FusedBatchNorm_1'\n",
      "WARNING:tensorflow:Didn't find expected Conv2D input to 'layer10/batch_normalization/cond/FusedBatchNorm'\n",
      "WARNING:tensorflow:Didn't find expected Conv2D input to 'layer10/batch_normalization/cond/FusedBatchNorm_1'\n",
      "WARNING:tensorflow:Didn't find expected Conv2D input to 'layer11/batch_normalization/cond/FusedBatchNorm'\n",
      "WARNING:tensorflow:Didn't find expected Conv2D input to 'layer11/batch_normalization/cond/FusedBatchNorm_1'\n",
      "WARNING:tensorflow:Didn't find expected Conv2D input to 'layer12/batch_normalization/cond/FusedBatchNorm'\n",
      "WARNING:tensorflow:Didn't find expected Conv2D input to 'layer12/batch_normalization/cond/FusedBatchNorm_1'\n",
      "WARNING:tensorflow:Didn't find expected Conv2D input to 'layer13/batch_normalization/cond/FusedBatchNorm'\n",
      "WARNING:tensorflow:Didn't find expected Conv2D input to 'layer13/batch_normalization/cond/FusedBatchNorm_1'\n",
      "WARNING:tensorflow:Didn't find expected Conv2D input to 'layer14/batch_normalization/cond/FusedBatchNorm'\n",
      "WARNING:tensorflow:Didn't find expected Conv2D input to 'layer14/batch_normalization/cond/FusedBatchNorm_1'\n",
      "WARNING:tensorflow:Didn't find expected Conv2D input to 'layer15/batch_normalization/cond/FusedBatchNorm'\n",
      "WARNING:tensorflow:Didn't find expected Conv2D input to 'layer15/batch_normalization/cond/FusedBatchNorm_1'\n",
      "WARNING:tensorflow:Didn't find expected Conv2D input to 'layer16/batch_normalization/cond/FusedBatchNorm'\n",
      "WARNING:tensorflow:Didn't find expected Conv2D input to 'layer16/batch_normalization/cond/FusedBatchNorm_1'\n",
      "WARNING:tensorflow:Didn't find expected Conv2D input to 'layer17/batch_normalization/cond/FusedBatchNorm'\n",
      "WARNING:tensorflow:Didn't find expected Conv2D input to 'layer17/batch_normalization/cond/FusedBatchNorm_1'\n",
      "WARNING:tensorflow:Didn't find expected Conv2D input to 'layer18/batch_normalization/cond/FusedBatchNorm'\n",
      "WARNING:tensorflow:Didn't find expected Conv2D input to 'layer18/batch_normalization/cond/FusedBatchNorm_1'\n",
      "WARNING:tensorflow:Didn't find expected Conv2D input to 'layer19/batch_normalization/cond/FusedBatchNorm'\n",
      "WARNING:tensorflow:Didn't find expected Conv2D input to 'layer19/batch_normalization/cond/FusedBatchNorm_1'\n",
      "WARNING:tensorflow:Didn't find expected Conv2D input to 'layer20/batch_normalization/cond/FusedBatchNorm'\n",
      "WARNING:tensorflow:Didn't find expected Conv2D input to 'layer20/batch_normalization/cond/FusedBatchNorm_1'\n",
      "WARNING:tensorflow:Didn't find expected Conv2D input to 'layer21/batch_normalization/cond/FusedBatchNorm'\n",
      "WARNING:tensorflow:Didn't find expected Conv2D input to 'layer21/batch_normalization/cond/FusedBatchNorm_1'\n",
      "WARNING:tensorflow:Didn't find expected Conv2D input to 'layer22/batch_normalization/cond/FusedBatchNorm'\n",
      "WARNING:tensorflow:Didn't find expected Conv2D input to 'layer22/batch_normalization/cond/FusedBatchNorm_1'\n"
     ]
    }
   ],
   "source": [
    "\n",
    "output_optimized_graph_name = 'optimized_'+MODEL_NAME+'.pb'\n",
    "\n",
    "input_graph_def = tf.GraphDef()\n",
    "with tf.gfile.Open(output_frozen_graph_name, \"rb\") as f:\n",
    "    data = f.read()\n",
    "    input_graph_def.ParseFromString(data)\n",
    "\n",
    "output_graph_def = optimize_for_inference_lib.optimize_for_inference(\n",
    "    input_graph_def,\n",
    "    [\"input\"], # an array of the input node(s)\n",
    "    [\"layer22/leaky_relu22_output\"], # an array of output nodes\n",
    "    tf.float32.as_datatype_enum)\n",
    "\n",
    "# Save the optimized graph\n",
    "\n",
    "\n"
   ]
  },
  {
   "cell_type": "code",
   "execution_count": 8,
   "metadata": {},
   "outputs": [],
   "source": [
    "f = tf.gfile.FastGFile(output_optimized_graph_name, \"wb\")\n",
    "f.write(output_graph_def.SerializeToString())\n"
   ]
  },
  {
   "cell_type": "code",
   "execution_count": 6,
   "metadata": {},
   "outputs": [],
   "source": [
    "with tf.gfile.FastGFile('./tmp2/'+output_optimized_graph_name, \"wb\") as f:\n",
    "    f.write(output_graph_def.SerializeToString())\n"
   ]
  },
  {
   "cell_type": "code",
   "execution_count": 20,
   "metadata": {},
   "outputs": [],
   "source": [
    "with tf.python_io.TFRecordWriter('./tmp2/'+output_optimized_graph_name) as writer:\n",
    "     writer.write(output_graph_def.SerializeToString())"
   ]
  },
  {
   "cell_type": "code",
   "execution_count": 9,
   "metadata": {
    "scrolled": false
   },
   "outputs": [
    {
     "name": "stdout",
     "output_type": "stream",
     "text": [
      "Ignore 'tcmalloc: large alloc' warnings.\n"
     ]
    },
    {
     "ename": "UnicodeDecodeError",
     "evalue": "'utf-8' codec can't decode byte 0xcb in position 179: invalid continuation byte",
     "output_type": "error",
     "traceback": [
      "\u001b[0;31m---------------------------------------------------------------------------\u001b[0m",
      "\u001b[0;31mDecodeError\u001b[0m                               Traceback (most recent call last)",
      "\u001b[0;32m~/.local/lib/python3.5/site-packages/tensorflow/contrib/lite/python/lite.py\u001b[0m in \u001b[0;36mfrom_frozen_graph\u001b[0;34m(cls, graph_def_file, input_arrays, output_arrays, input_shapes)\u001b[0m\n\u001b[1;32m    251\u001b[0m           \u001b[0mgraph_def\u001b[0m \u001b[0;34m=\u001b[0m \u001b[0m_graph_pb2\u001b[0m\u001b[0;34m.\u001b[0m\u001b[0mGraphDef\u001b[0m\u001b[0;34m(\u001b[0m\u001b[0;34m)\u001b[0m\u001b[0;34m\u001b[0m\u001b[0m\n\u001b[0;32m--> 252\u001b[0;31m           \u001b[0mgraph_def\u001b[0m\u001b[0;34m.\u001b[0m\u001b[0mParseFromString\u001b[0m\u001b[0;34m(\u001b[0m\u001b[0mfile_content\u001b[0m\u001b[0;34m)\u001b[0m\u001b[0;34m\u001b[0m\u001b[0m\n\u001b[0m\u001b[1;32m    253\u001b[0m         \u001b[0;32mexcept\u001b[0m \u001b[0;34m(\u001b[0m\u001b[0m_text_format\u001b[0m\u001b[0;34m.\u001b[0m\u001b[0mParseError\u001b[0m\u001b[0;34m,\u001b[0m \u001b[0mDecodeError\u001b[0m\u001b[0;34m)\u001b[0m\u001b[0;34m:\u001b[0m\u001b[0;34m\u001b[0m\u001b[0m\n",
      "\u001b[0;31mDecodeError\u001b[0m: Error parsing message",
      "\nDuring handling of the above exception, another exception occurred:\n",
      "\u001b[0;31mUnicodeDecodeError\u001b[0m                        Traceback (most recent call last)",
      "\u001b[0;32m<ipython-input-9-dd173ee13965>\u001b[0m in \u001b[0;36m<module>\u001b[0;34m()\u001b[0m\n\u001b[1;32m      4\u001b[0m \u001b[0;34m\u001b[0m\u001b[0m\n\u001b[1;32m      5\u001b[0m converter = tf.contrib.lite.TFLiteConverter.from_frozen_graph(\n\u001b[0;32m----> 6\u001b[0;31m   graph_def_file, input_arrays, output_arrays)\n\u001b[0m\u001b[1;32m      7\u001b[0m \u001b[0mtflite_model\u001b[0m \u001b[0;34m=\u001b[0m \u001b[0mconverter\u001b[0m\u001b[0;34m.\u001b[0m\u001b[0mconvert\u001b[0m\u001b[0;34m(\u001b[0m\u001b[0;34m)\u001b[0m\u001b[0;34m\u001b[0m\u001b[0m\n\u001b[1;32m      8\u001b[0m \u001b[0mopen\u001b[0m\u001b[0;34m(\u001b[0m\u001b[0;34m\"converted_model.tflite\"\u001b[0m\u001b[0;34m,\u001b[0m \u001b[0;34m\"wb\"\u001b[0m\u001b[0;34m)\u001b[0m\u001b[0;34m.\u001b[0m\u001b[0mwrite\u001b[0m\u001b[0;34m(\u001b[0m\u001b[0mtflite_model\u001b[0m\u001b[0;34m)\u001b[0m\u001b[0;34m\u001b[0m\u001b[0m\n",
      "\u001b[0;32m~/.local/lib/python3.5/site-packages/tensorflow/contrib/lite/python/lite.py\u001b[0m in \u001b[0;36mfrom_frozen_graph\u001b[0;34m(cls, graph_def_file, input_arrays, output_arrays, input_shapes)\u001b[0m\n\u001b[1;32m    257\u001b[0m             \u001b[0;32mif\u001b[0m \u001b[0;32mnot\u001b[0m \u001b[0misinstance\u001b[0m\u001b[0;34m(\u001b[0m\u001b[0mfile_content\u001b[0m\u001b[0;34m,\u001b[0m \u001b[0mstr\u001b[0m\u001b[0;34m)\u001b[0m\u001b[0;34m:\u001b[0m\u001b[0;34m\u001b[0m\u001b[0m\n\u001b[1;32m    258\u001b[0m               \u001b[0;32mif\u001b[0m \u001b[0mPY3\u001b[0m\u001b[0;34m:\u001b[0m\u001b[0;34m\u001b[0m\u001b[0m\n\u001b[0;32m--> 259\u001b[0;31m                 \u001b[0mfile_content\u001b[0m \u001b[0;34m=\u001b[0m \u001b[0mfile_content\u001b[0m\u001b[0;34m.\u001b[0m\u001b[0mdecode\u001b[0m\u001b[0;34m(\u001b[0m\u001b[0;34m\"utf-8\"\u001b[0m\u001b[0;34m)\u001b[0m\u001b[0;34m\u001b[0m\u001b[0m\n\u001b[0m\u001b[1;32m    260\u001b[0m               \u001b[0;32melse\u001b[0m\u001b[0;34m:\u001b[0m\u001b[0;34m\u001b[0m\u001b[0m\n\u001b[1;32m    261\u001b[0m                 \u001b[0mfile_content\u001b[0m \u001b[0;34m=\u001b[0m \u001b[0mfile_content\u001b[0m\u001b[0;34m.\u001b[0m\u001b[0mencode\u001b[0m\u001b[0;34m(\u001b[0m\u001b[0;34m\"utf-8\"\u001b[0m\u001b[0;34m)\u001b[0m\u001b[0;34m\u001b[0m\u001b[0m\n",
      "\u001b[0;31mUnicodeDecodeError\u001b[0m: 'utf-8' codec can't decode byte 0xcb in position 179: invalid continuation byte"
     ]
    }
   ],
   "source": [
    "graph_def_file = './optimized_'+MODEL_NAME+'.pb'\n",
    "input_arrays = [\"input\"]\n",
    "output_arrays = [\"layer22/leaky_relu22_output\"]\n",
    "\n",
    "converter = tf.contrib.lite.TocoConverter.from_frozen_graph(\n",
    "  graph_def_file, input_arrays, output_arrays)\n",
    "tflite_model = converter.convert()\n",
    "open(\"converted_model.tflite\", \"wb\").write(tflite_model)"
   ]
  },
  {
   "cell_type": "code",
   "execution_count": null,
   "metadata": {},
   "outputs": [],
   "source": []
  },
  {
   "cell_type": "code",
   "execution_count": null,
   "metadata": {},
   "outputs": [],
   "source": []
  }
 ],
 "metadata": {
  "kernelspec": {
   "display_name": "Python 3",
   "language": "python",
   "name": "python3"
  },
  "language_info": {
   "codemirror_mode": {
    "name": "ipython",
    "version": 3
   },
   "file_extension": ".py",
   "mimetype": "text/x-python",
   "name": "python",
   "nbconvert_exporter": "python",
   "pygments_lexer": "ipython3",
   "version": "3.5.2"
  }
 },
 "nbformat": 4,
 "nbformat_minor": 2
}
